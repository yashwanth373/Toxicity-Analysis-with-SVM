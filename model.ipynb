{
 "cells": [
  {
   "cell_type": "markdown",
   "id": "5c8caf59",
   "metadata": {},
   "source": [
    "# Toxicity Analysis using SVM"
   ]
  },
  {
   "cell_type": "markdown",
   "id": "1675f2c8",
   "metadata": {},
   "source": [
    "### Importing necessary Libraries"
   ]
  },
  {
   "cell_type": "code",
   "execution_count": 1,
   "id": "5ce24693",
   "metadata": {},
   "outputs": [],
   "source": [
    "from sklearn.feature_extraction.text import TfidfVectorizer\n",
    "import time\n",
    "from sklearn import svm\n",
    "from sklearn.metrics import classification_report\n",
    "import pandas as pd"
   ]
  },
  {
   "cell_type": "markdown",
   "id": "2cb055a4",
   "metadata": {},
   "source": [
    "### Getting Train and Test Datasets"
   ]
  },
  {
   "cell_type": "code",
   "execution_count": 2,
   "id": "fcd277ff",
   "metadata": {},
   "outputs": [],
   "source": [
    "trainData = pd.read_csv(\"./data/train.csv\")\n",
    "\n",
    "testData = pd.read_csv(\"./data/test.csv\")\n",
    "\n",
    "testLabels=pd.read_csv(\"./data/test_labels.csv\")"
   ]
  },
  {
   "cell_type": "markdown",
   "id": "88c43141",
   "metadata": {},
   "source": [
    "### Pre-Processing Phase"
   ]
  },
  {
   "cell_type": "code",
   "execution_count": 3,
   "id": "444937f3",
   "metadata": {},
   "outputs": [
    {
     "data": {
      "text/html": [
       "<div>\n",
       "<style scoped>\n",
       "    .dataframe tbody tr th:only-of-type {\n",
       "        vertical-align: middle;\n",
       "    }\n",
       "\n",
       "    .dataframe tbody tr th {\n",
       "        vertical-align: top;\n",
       "    }\n",
       "\n",
       "    .dataframe thead th {\n",
       "        text-align: right;\n",
       "    }\n",
       "</style>\n",
       "<table border=\"1\" class=\"dataframe\">\n",
       "  <thead>\n",
       "    <tr style=\"text-align: right;\">\n",
       "      <th></th>\n",
       "      <th>id</th>\n",
       "      <th>comment_text</th>\n",
       "      <th>toxic</th>\n",
       "      <th>severe_toxic</th>\n",
       "      <th>obscene</th>\n",
       "      <th>threat</th>\n",
       "      <th>insult</th>\n",
       "      <th>identity_hate</th>\n",
       "    </tr>\n",
       "  </thead>\n",
       "  <tbody>\n",
       "    <tr>\n",
       "      <th>0</th>\n",
       "      <td>0000997932d777bf</td>\n",
       "      <td>Explanation\\nWhy the edits made under my usern...</td>\n",
       "      <td>0</td>\n",
       "      <td>0</td>\n",
       "      <td>0</td>\n",
       "      <td>0</td>\n",
       "      <td>0</td>\n",
       "      <td>0</td>\n",
       "    </tr>\n",
       "    <tr>\n",
       "      <th>1</th>\n",
       "      <td>000103f0d9cfb60f</td>\n",
       "      <td>D'aww! He matches this background colour I'm s...</td>\n",
       "      <td>0</td>\n",
       "      <td>0</td>\n",
       "      <td>0</td>\n",
       "      <td>0</td>\n",
       "      <td>0</td>\n",
       "      <td>0</td>\n",
       "    </tr>\n",
       "    <tr>\n",
       "      <th>2</th>\n",
       "      <td>000113f07ec002fd</td>\n",
       "      <td>Hey man, I'm really not trying to edit war. It...</td>\n",
       "      <td>0</td>\n",
       "      <td>0</td>\n",
       "      <td>0</td>\n",
       "      <td>0</td>\n",
       "      <td>0</td>\n",
       "      <td>0</td>\n",
       "    </tr>\n",
       "    <tr>\n",
       "      <th>3</th>\n",
       "      <td>0001b41b1c6bb37e</td>\n",
       "      <td>\"\\nMore\\nI can't make any real suggestions on ...</td>\n",
       "      <td>0</td>\n",
       "      <td>0</td>\n",
       "      <td>0</td>\n",
       "      <td>0</td>\n",
       "      <td>0</td>\n",
       "      <td>0</td>\n",
       "    </tr>\n",
       "    <tr>\n",
       "      <th>4</th>\n",
       "      <td>0001d958c54c6e35</td>\n",
       "      <td>You, sir, are my hero. Any chance you remember...</td>\n",
       "      <td>0</td>\n",
       "      <td>0</td>\n",
       "      <td>0</td>\n",
       "      <td>0</td>\n",
       "      <td>0</td>\n",
       "      <td>0</td>\n",
       "    </tr>\n",
       "  </tbody>\n",
       "</table>\n",
       "</div>"
      ],
      "text/plain": [
       "                 id                                       comment_text  toxic  \\\n",
       "0  0000997932d777bf  Explanation\\nWhy the edits made under my usern...      0   \n",
       "1  000103f0d9cfb60f  D'aww! He matches this background colour I'm s...      0   \n",
       "2  000113f07ec002fd  Hey man, I'm really not trying to edit war. It...      0   \n",
       "3  0001b41b1c6bb37e  \"\\nMore\\nI can't make any real suggestions on ...      0   \n",
       "4  0001d958c54c6e35  You, sir, are my hero. Any chance you remember...      0   \n",
       "\n",
       "   severe_toxic  obscene  threat  insult  identity_hate  \n",
       "0             0        0       0       0              0  \n",
       "1             0        0       0       0              0  \n",
       "2             0        0       0       0              0  \n",
       "3             0        0       0       0              0  \n",
       "4             0        0       0       0              0  "
      ]
     },
     "execution_count": 3,
     "metadata": {},
     "output_type": "execute_result"
    }
   ],
   "source": [
    "trainData.head()"
   ]
  },
  {
   "cell_type": "markdown",
   "id": "4d1e8d58",
   "metadata": {},
   "source": [
    "###### Data is in One-Hot Encoding with multiple labels, inverting the One-Hot Encoding with labels Toxic and Non-Toxic"
   ]
  },
  {
   "cell_type": "code",
   "execution_count": 4,
   "id": "180316b8",
   "metadata": {},
   "outputs": [],
   "source": [
    "# New train Dataset containing only message and tag\n",
    "train_data=pd.DataFrame()\n",
    "train_data['message']=trainData['comment_text']\n",
    "train_data['tag']=''\n",
    "\n",
    "# New train Dataset containing only message\n",
    "test_data=pd.DataFrame()\n",
    "test_data['message']=['' for i in range(len(testData))]\n",
    "test_data['tag']=''\n",
    "\n",
    "# Transforming Train dataset\n",
    "for i in range(len(trainData)):\n",
    "    if trainData.loc[i][\"toxic\"]==1 or trainData.loc[i][\"severe_toxic\"]==1 or trainData.loc[i][\"obscene\"]==1 or trainData.loc[i][\"threat\"]==1 or trainData.loc[i][\"insult\"]==1 or trainData.loc[i][\"identity_hate\"]==1:\n",
    "        train_data.loc[i]['tag']=\"Toxic\"\n",
    "    else:\n",
    "        train_data.loc[i]['tag']=\"Non-Toxic\"\n",
    "        \n",
    "\n",
    "# Transforming Test dataset\n",
    "for i in range(len(testData)):\n",
    "    if testLabels.loc[i][\"toxic\"]==-1 and testLabels.loc[i][\"severe_toxic\"]==-1 and testLabels.loc[i][\"obscene\"]==-1 and testLabels.loc[i][\"threat\"]==-1 and testLabels.loc[i][\"insult\"]==-1 and testLabels.loc[i][\"identity_hate\"]==-1:\n",
    "        continue\n",
    "    else:\n",
    "        if testLabels.loc[i][\"toxic\"]==1 or testLabels.loc[i][\"severe_toxic\"]==1 or testLabels.loc[i][\"obscene\"]==1 or testLabels.loc[i][\"threat\"]==1 or testLabels.loc[i][\"insult\"]==1 or testLabels.loc[i][\"identity_hate\"]==1:\n",
    "            test_data.loc[i]['message']=testData.loc[i]['comment_text']\n",
    "            test_data.loc[i]['tag']=\"Toxic\"\n",
    "        else:\n",
    "            test_data.loc[i]['message']=testData.loc[i]['comment_text']\n",
    "            test_data.loc[i]['tag']=\"Non-Toxic\"\n",
    "\n",
    "            \n",
    "# Removing the rows which are empty\n",
    "test_data.replace(\"\",float(\"NaN\"), inplace=True)\n",
    "test_data=test_data.dropna()"
   ]
  },
  {
   "cell_type": "markdown",
   "id": "fa61c98f",
   "metadata": {},
   "source": [
    "###### After converting, the dataset looks like "
   ]
  },
  {
   "cell_type": "code",
   "execution_count": 5,
   "id": "106358e9",
   "metadata": {},
   "outputs": [
    {
     "data": {
      "text/plain": [
       "(                                              message        tag\n",
       " 0   Explanation\\nWhy the edits made under my usern...  Non-Toxic\n",
       " 1   D'aww! He matches this background colour I'm s...  Non-Toxic\n",
       " 2   Hey man, I'm really not trying to edit war. It...  Non-Toxic\n",
       " 3   \"\\nMore\\nI can't make any real suggestions on ...  Non-Toxic\n",
       " 4   You, sir, are my hero. Any chance you remember...  Non-Toxic\n",
       " 5   \"\\n\\nCongratulations from me as well, use the ...  Non-Toxic\n",
       " 6        COCKSUCKER BEFORE YOU PISS AROUND ON MY WORK      Toxic\n",
       " 7   Your vandalism to the Matt Shirvington article...  Non-Toxic\n",
       " 8   Sorry if the word 'nonsense' was offensive to ...  Non-Toxic\n",
       " 9   alignment on this subject and which are contra...  Non-Toxic\n",
       " 10  \"\\nFair use rationale for Image:Wonju.jpg\\n\\nT...  Non-Toxic\n",
       " 11  bbq \\n\\nbe a man and lets discuss it-maybe ove...  Non-Toxic\n",
       " 12  Hey... what is it..\\n@ | talk .\\nWhat is it......      Toxic\n",
       " 13  Before you start throwing accusations and warn...  Non-Toxic\n",
       " 14  Oh, and the girl above started her arguments w...  Non-Toxic,\n",
       "                                               message        tag\n",
       " 5   Thank you for understanding. I think very high...  Non-Toxic\n",
       " 7                    :Dear god this site is horrible.  Non-Toxic\n",
       " 11  \"::: Somebody will invariably try to add Relig...  Non-Toxic\n",
       " 13  \" \\n\\n It says it right there that it IS a typ...  Non-Toxic\n",
       " 14  \" \\n\\n == Before adding a new product to the l...  Non-Toxic\n",
       " 16                           this other one from 1897  Non-Toxic\n",
       " 17  == Reason for banning throwing == \\n\\n This ar...  Non-Toxic\n",
       " 19             |blocked]] from editing Wikipedia.   |  Non-Toxic\n",
       " 21  == Arabs are committing genocide in Iraq, but ...      Toxic\n",
       " 22  Please stop. If you continue to vandalize Wiki...  Non-Toxic\n",
       " 23  == Energy  == \\n\\n I have edited the introduct...  Non-Toxic\n",
       " 26  @RedSlash, cut it short. If you have sources s...  Non-Toxic\n",
       " 28  . \\n\\n           Jews are not a race because y...  Non-Toxic\n",
       " 29  :::If Ollie or others think that one list of t...  Non-Toxic\n",
       " 31               Professors to the Manhatten Project.  Non-Toxic)"
      ]
     },
     "execution_count": 5,
     "metadata": {},
     "output_type": "execute_result"
    }
   ],
   "source": [
    "train_data.head(15),test_data.head(15)"
   ]
  },
  {
   "cell_type": "markdown",
   "id": "49406645",
   "metadata": {},
   "source": [
    "### Training Phase"
   ]
  },
  {
   "cell_type": "markdown",
   "id": "0c88c907",
   "metadata": {},
   "source": [
    "###### Creating vectors for Train and Test Messages"
   ]
  },
  {
   "cell_type": "code",
   "execution_count": 6,
   "id": "a6e897e1",
   "metadata": {},
   "outputs": [],
   "source": [
    "vectorizer = TfidfVectorizer(min_df = 5,\n",
    "                             max_df = 0.8,\n",
    "                             sublinear_tf = True,\n",
    "                             use_idf = True)\n",
    "\n",
    "train_vectors = vectorizer.fit_transform(train_data['message'])\n",
    "test_vectors = vectorizer.transform(test_data['message'])"
   ]
  },
  {
   "cell_type": "markdown",
   "id": "0687bddd",
   "metadata": {},
   "source": [
    "###### Creating SVM model with Linear Kernel"
   ]
  },
  {
   "cell_type": "code",
   "execution_count": 7,
   "id": "75ac57de",
   "metadata": {},
   "outputs": [],
   "source": [
    "classifier_linear = svm.SVC(kernel='linear')"
   ]
  },
  {
   "cell_type": "markdown",
   "id": "42adf05c",
   "metadata": {},
   "source": [
    "###### Fitting the training vector to the model"
   ]
  },
  {
   "cell_type": "code",
   "execution_count": 8,
   "id": "b068ad77",
   "metadata": {},
   "outputs": [
    {
     "data": {
      "text/plain": [
       "SVC(kernel='linear')"
      ]
     },
     "execution_count": 8,
     "metadata": {},
     "output_type": "execute_result"
    }
   ],
   "source": [
    "classifier_linear.fit(train_vectors, train_data['tag'])"
   ]
  },
  {
   "cell_type": "markdown",
   "id": "e7a874c6",
   "metadata": {},
   "source": [
    "###### Testing the model with Test Dataset"
   ]
  },
  {
   "cell_type": "code",
   "execution_count": 9,
   "id": "5635fc9b",
   "metadata": {},
   "outputs": [],
   "source": [
    "prediction_linear = classifier_linear.predict(test_vectors)"
   ]
  },
  {
   "cell_type": "markdown",
   "id": "624adeed",
   "metadata": {},
   "source": [
    "###### Precision and Recall of the model for each label"
   ]
  },
  {
   "cell_type": "code",
   "execution_count": 10,
   "id": "cf83fa09",
   "metadata": {},
   "outputs": [
    {
     "name": "stdout",
     "output_type": "stream",
     "text": [
      "Toxic:  {'precision': 0.5997149305143129, 'recall': 0.8087457952907257, 'f1-score': 0.688719137907516, 'support': 6243}\n",
      "Non-Toxic:  {'precision': 0.9785093324213898, 'recall': 0.941629860569845, 'f1-score': 0.9597154306494606, 'support': 57735}\n"
     ]
    }
   ],
   "source": [
    "report = classification_report(test_data['tag'], prediction_linear, output_dict=True)\n",
    "print('Toxic: ', report['Toxic'])\n",
    "print('Non-Toxic: ', report['Non-Toxic'])"
   ]
  },
  {
   "cell_type": "markdown",
   "id": "4485fbab",
   "metadata": {},
   "source": [
    "### Testing with Custom messages "
   ]
  },
  {
   "cell_type": "code",
   "execution_count": 11,
   "id": "2997e451",
   "metadata": {},
   "outputs": [
    {
     "name": "stdout",
     "output_type": "stream",
     "text": [
      "You dumb idiot\n",
      "Result Toxic\n"
     ]
    }
   ],
   "source": [
    "text_vector = vectorizer.transform([input()])\n",
    "result = classifier_linear.predict(text_vector)\n",
    "print(\"Result\",result[0])"
   ]
  },
  {
   "cell_type": "markdown",
   "id": "3eaff4fc",
   "metadata": {},
   "source": [
    "#### Our model could differentiate between toxic and non-toxic messages with sufficient precision"
   ]
  }
 ],
 "metadata": {
  "kernelspec": {
   "display_name": "Python 3",
   "language": "python",
   "name": "python3"
  },
  "language_info": {
   "codemirror_mode": {
    "name": "ipython",
    "version": 3
   },
   "file_extension": ".py",
   "mimetype": "text/x-python",
   "name": "python",
   "nbconvert_exporter": "python",
   "pygments_lexer": "ipython3",
   "version": "3.8.8"
  }
 },
 "nbformat": 4,
 "nbformat_minor": 5
}
